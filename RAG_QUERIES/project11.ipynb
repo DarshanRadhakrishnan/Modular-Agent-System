{
  "nbformat": 4,
  "nbformat_minor": 0,
  "metadata": {
    "colab": {
      "provenance": []
    },
    "kernelspec": {
      "name": "python3",
      "display_name": "Python 3"
    },
    "language_info": {
      "name": "python"
    }
  },
  "cells": [
    {
      "cell_type": "markdown",
      "source": [
        "SO here we will focus on building an adaptive rag with multiple correct points and an advances flow"
      ],
      "metadata": {
        "id": "_oGE2RS8s67E"
      }
    },
    {
      "cell_type": "markdown",
      "source": [
        "     \n",
        "\n",
        "We'll use Command R, a recent release from Cohere instead of openAI because:\n",
        "    Has strong accuracy on RAG and Tool Use\n",
        "    Has 128k context\n",
        "    Has low latency\n"
      ],
      "metadata": {
        "id": "4cYx07Jfu6oo"
      }
    },
    {
      "cell_type": "code",
      "source": [
        "#setting up the environment\n",
        "import os\n",
        "os.environ[\"COHERE_API_KEY\"] = \"<your-api-key>\""
      ],
      "metadata": {
        "id": "_Wq1SpQutGd_"
      },
      "execution_count": null,
      "outputs": []
    },
    {
      "cell_type": "markdown",
      "source": [
        "Then as we did in a CRAG we need to create the tools that will be used by the functions"
      ],
      "metadata": {
        "id": "ZfzGWJ1Wu-kS"
      }
    },
    {
      "cell_type": "code",
      "source": [
        "#the retriever as usual but here we are not using openai embeddings instead we will use cohere-embeddings\n",
        "### Build Index\n",
        "from langchain.text_splitter import RecursiveCharacterTextSplitter\n",
        "from langchain_cohere import CohereEmbeddings\n",
        "from langchain_community.document_loaders import WebBaseLoader\n",
        "from langchain_community.vectorstores import Chroma\n",
        "# Set embeddings\n",
        "embd = CohereEmbeddings()\n",
        "# Docs to index\n",
        "urls = [\n",
        "    \"https://lilianweng.github.io/posts/2023-06-23-agent/\",\n",
        "    \"https://lilianweng.github.io/posts/2023-03-15-prompt-engineering/\",\n",
        "    \"https://lilianweng.github.io/posts/2023-10-25-adv-attack-llm/\",\n",
        "]\n",
        "# Load\n",
        "docs = [WebBaseLoader(url).load() for url in urls]\n",
        "docs_list = [item for sublist in docs for item in sublist]\n",
        "# Split\n",
        "text_splitter = RecursiveCharacterTextSplitter.from_tiktoken_encoder(\n",
        "    chunk_size=512, chunk_overlap=0\n",
        ")\n",
        "doc_splits = text_splitter.split_documents(docs_list)\n",
        "# Add to vectorstore\n",
        "vectorstore = Chroma.from_documents(\n",
        "    documents=doc_splits,\n",
        "    embedding=embd,\n",
        ")\n",
        "retriever = vectorstore.as_retriever()\n",
        "\n",
        "\n"
      ],
      "metadata": {
        "id": "XVbEYPgIvHhM"
      },
      "execution_count": null,
      "outputs": []
    },
    {
      "cell_type": "markdown",
      "source": [
        "Then we need to create router at the first step which routes the question to db,wb_search or fallback?\n",
        "\n",
        "here in preamble we have declared that the route the question to vector store if \"\",\"\"... you can change as this as per your wish"
      ],
      "metadata": {
        "id": "2IWKtsv09uBl"
      }
    },
    {
      "cell_type": "code",
      "source": [
        "### Router\n",
        "from langchain_cohere import ChatCohere\n",
        "from langchain_core.prompts import ChatPromptTemplate\n",
        "from langchain_core.pydantic_v1 import BaseModel, Field\n",
        "# Data model\n",
        "class web_search(BaseModel):\n",
        "    \"\"\"\n",
        "    The internet. Use web_search for questions that are related to anything else than agents, prompt engineering, and adversarial attacks.\n",
        "    \"\"\"\n",
        "\n",
        "    query: str = Field(description=\"The query to use when searching the internet.\")\n",
        "\n",
        "\n",
        "class vectorstore(BaseModel):\n",
        "    \"\"\"\n",
        "    A vectorstore containing documents related to agents, prompt engineering, and adversarial attacks. Use the vectorstore for questions on these topics.\n",
        "    \"\"\"\n",
        "\n",
        "    query: str = Field(description=\"The query to use when searching the vectorstore.\")\n",
        "# Preamble\n",
        "preamble = \"\"\"You are an expert at routing a user question to a vectorstore or web search.\n",
        "The vectorstore contains documents related to agents, prompt engineering, and adversarial attacks.\n",
        "Use the vectorstore for questions on these topics. Otherwise, use web-search.\"\"\"\n",
        "# LLM with tool use and preamble\n",
        "llm = ChatCohere(model=\"command-r\", temperature=0)\n",
        "structured_llm_router = llm.bind_tools(\n",
        "    tools=[web_search, vectorstore], preamble=preamble\n",
        ")\n",
        "# Prompt\n",
        "route_prompt = ChatPromptTemplate.from_messages(\n",
        "    [\n",
        "        (\"human\", \"{question}\"),\n",
        "    ]\n",
        ")\n",
        "question_router = route_prompt | structured_llm_router\n",
        "#eample run\n",
        "response = question_router.invoke(\n",
        "    {\"question\": \"Who will the Bears draft first in the NFL draft?\"}\n",
        ")\n",
        "print(response.response_metadata[\"tool_calls\"])\n",
        "response = question_router.invoke({\"question\": \"What are the types of agent memory?\"})\n",
        "print(response.response_metadata[\"tool_calls\"])\n",
        "response = question_router.invoke({\"question\": \"Hi how are you?\"})\n",
        "print(\"tool_calls\" in response.response_metadata)"
      ],
      "metadata": {
        "id": "R1Mkc5-h-UxV"
      },
      "execution_count": null,
      "outputs": []
    },
    {
      "cell_type": "markdown",
      "source": [],
      "metadata": {
        "id": "F4sgPsZNAPh4"
      }
    },
    {
      "cell_type": "code",
      "source": [
        "# Data model\n",
        "class GradeDocuments(BaseModel):\n",
        "    \"\"\"Binary score for relevance check on retrieved documents.\"\"\"\n",
        "\n",
        "    binary_score: str = Field(\n",
        "        description=\"Documents are relevant to the question, 'yes' or 'no'\"\n",
        "    )\n",
        "\n",
        "\n",
        "# Prompt\n",
        "preamble = \"\"\"You are a grader assessing relevance of a retrieved document to a user question. \\n\n",
        "If the document contains keyword(s) or semantic meaning related to the user question, grade it as relevant. \\n\n",
        "Give a binary score 'yes' or 'no' score to indicate whether the document is relevant to the question.\"\"\"\n",
        "\n",
        "# LLM with function call\n",
        "llm = ChatCohere(model=\"command-r\", temperature=0)\n",
        "structured_llm_grader = llm.with_structured_output(GradeDocuments, preamble=preamble)\n",
        "\n",
        "grade_prompt = ChatPromptTemplate.from_messages(\n",
        "    [\n",
        "        (\"human\", \"Retrieved document: \\n\\n {document} \\n\\n User question: {question}\"),\n",
        "    ]\n",
        ")\n",
        "\n",
        "retrieval_grader = grade_prompt | structured_llm_grader\n",
        "#example run\n",
        "question = \"types of agent memory\"\n",
        "docs = retriever.invoke(question)\n",
        "doc_txt = docs[1].page_content\n",
        "response = retrieval_grader.invoke({\"question\": question, \"document\": doc_txt})\n",
        "print(response)\n",
        "\n"
      ],
      "metadata": {
        "id": "fDM9gVZb-Vo8"
      },
      "execution_count": null,
      "outputs": []
    },
    {
      "cell_type": "markdown",
      "source": [
        "then the generation part comes in here since we are using a cohere model we can set the preamble instead of chatprompttemplate with system message"
      ],
      "metadata": {
        "id": "pe6sRIfJBCwD"
      }
    },
    {
      "cell_type": "code",
      "source": [
        "from langchain_core.messages import HumanMessage\n",
        "from langchain_core.output_parsers import StrOutputParser\n",
        "\n",
        "# Preamble\n",
        "preamble = \"\"\"You are an assistant for question-answering tasks. Use the following pieces of retrieved context to answer the question. If you don't know the answer, just say that you don't know. Use three sentences maximum and keep the answer concise.\"\"\"\n",
        "\n",
        "# LLM\n",
        "llm = ChatCohere(model_name=\"command-r\", temperature=0).bind(preamble=preamble)\n",
        "\n",
        "\n",
        "# Prompt\n",
        "def prompt(x):\n",
        "    return ChatPromptTemplate.from_messages(\n",
        "        [\n",
        "            HumanMessage(\n",
        "                f\"Question: {x['question']} \\nAnswer: \",\n",
        "                additional_kwargs={\"documents\": x[\"documents\"]},\n",
        "            )\n",
        "        ]\n",
        "    )\n",
        "\n",
        "\n",
        "# Chain\n",
        "rag_chain = prompt | llm | StrOutputParser()\n",
        "\n",
        "# Run\n",
        "generation = rag_chain.invoke({\"documents\": docs, \"question\": question})\n",
        "print(generation)"
      ],
      "metadata": {
        "id": "RWdctoc8-Vl1"
      },
      "execution_count": null,
      "outputs": []
    },
    {
      "cell_type": "markdown",
      "source": [
        "then we will do the fallback part node"
      ],
      "metadata": {
        "id": "k1kQCzcmBX5l"
      }
    },
    {
      "cell_type": "code",
      "source": [
        "\n",
        "\n",
        "### LLM fallback\n",
        "\n",
        "from langchain_core.output_parsers import StrOutputParser\n",
        "\n",
        "# Preamble\n",
        "preamble = \"\"\"You are an assistant for question-answering tasks. Answer the question based upon your knowledge. Use three sentences maximum and keep the answer concise.\"\"\"\n",
        "\n",
        "# LLM\n",
        "llm = ChatCohere(model_name=\"command-r\", temperature=0).bind(preamble=preamble)\n",
        "\n",
        "\n",
        "# Prompt\n",
        "def prompt(x):\n",
        "    return ChatPromptTemplate.from_messages(\n",
        "        [HumanMessage(f\"Question: {x['question']} \\nAnswer: \")]\n",
        "    )\n",
        "\n",
        "\n",
        "# Chain\n",
        "llm_chain = prompt | llm | StrOutputParser()\n",
        "\n",
        "# Run\n",
        "question = \"Hi how are you?\"\n",
        "generation = llm_ch"
      ],
      "metadata": {
        "id": "kiJPxyjjBXgE"
      },
      "execution_count": null,
      "outputs": []
    },
    {
      "cell_type": "markdown",
      "source": [
        "then the hallucination checker which is solely based on the generated content and the docs retrieved and this just tells a yes or no  "
      ],
      "metadata": {
        "id": "qsQreS_zB5eR"
      }
    },
    {
      "cell_type": "code",
      "source": [
        "### Hallucination Grader\n",
        "\n",
        "\n",
        "# Data model\n",
        "class GradeHallucinations(BaseModel):\n",
        "    \"\"\"Binary score for hallucination present in generation answer.\"\"\"\n",
        "\n",
        "    binary_score: str = Field(\n",
        "        description=\"Answer is grounded in the facts, 'yes' or 'no'\"\n",
        "    )\n",
        "\n",
        "\n",
        "# Preamble\n",
        "preamble = \"\"\"You are a grader assessing whether an LLM generation is grounded in / supported by a set of retrieved facts. \\n\n",
        "Give a binary score 'yes' or 'no'. 'Yes' means that the answer is grounded in / supported by the set of facts.\"\"\"\n",
        "\n",
        "# LLM with function call\n",
        "llm = ChatCohere(model=\"command-r\", temperature=0)\n",
        "structured_llm_grader = llm.with_structured_output(\n",
        "    GradeHallucinations, preamble=preamble\n",
        ")\n",
        "\n",
        "# Prompt\n",
        "hallucination_prompt = ChatPromptTemplate.from_messages(\n",
        "    [\n",
        "        # (\"system\", system),\n",
        "        (\"human\", \"Set of facts: \\n\\n {documents} \\n\\n LLM generation: {generation}\"),\n",
        "    ]\n",
        ")\n",
        "\n",
        "hallucination_grader = hallucination_prompt | structured_llm_grader\n",
        "hallucination_grader.invoke({\"documents\": docs, \"generation\": generation})"
      ],
      "metadata": {
        "id": "u2Zv7RyVBXdR"
      },
      "execution_count": null,
      "outputs": []
    },
    {
      "cell_type": "markdown",
      "source": [
        "then we need to check whether the answer thathas been generated is correct or not after the hallucination check so this is a tool which takes the question and the generated answer and return a yes or no with also a web tool"
      ],
      "metadata": {
        "id": "gTPEW-1vCJn0"
      }
    },
    {
      "cell_type": "code",
      "source": [
        "\n",
        "\n",
        "### Answer Grader\n",
        "\n",
        "\n",
        "# Data model\n",
        "class GradeAnswer(BaseModel):\n",
        "    \"\"\"Binary score to assess answer addresses question.\"\"\"\n",
        "\n",
        "    binary_score: str = Field(\n",
        "        description=\"Answer addresses the question, 'yes' or 'no'\"\n",
        "    )\n",
        "\n",
        "\n",
        "# Preamble\n",
        "preamble = \"\"\"You are a grader assessing whether an answer addresses / resolves a question \\n\n",
        "Give a binary score 'yes' or 'no'. Yes' means that the answer resolves the question.\"\"\"\n",
        "\n",
        "# LLM with function call\n",
        "llm = ChatCohere(model=\"command-r\", temperature=0)\n",
        "structured_llm_grader = llm.with_structured_output(GradeAnswer, preamble=preamble)\n",
        "\n",
        "# Prompt\n",
        "answer_prompt = ChatPromptTemplate.from_messages(\n",
        "    [\n",
        "        (\"human\", \"User question: \\n\\n {question} \\n\\n LLM generation: {generation}\"),\n",
        "    ]\n",
        ")\n",
        "\n",
        "answer_grader = answer_prompt | structured_llm_grader\n",
        "answer_grader.invoke({\"question\": question, \"generation\": generation})\n",
        "\n",
        "\n",
        "#Web search tool\n",
        "from langchain_community.tools.tavily_search import TavilySearchResults\n",
        "web_search_tool = TavilySearchResults()"
      ],
      "metadata": {
        "id": "CpX_72YHBXbT"
      },
      "execution_count": null,
      "outputs": []
    },
    {
      "cell_type": "markdown",
      "source": [
        "now we will start building the graph by first declaring the state and function which will be used by the nodes and edges\n",
        "remember similar to the CRAG here also we iwll return the dict of attributes of the state with values after each function\n",
        "\n",
        "-->one of the importanat points in the route question is the retreivel part where we use bind tools with two pydantic classes with field str and a description\n",
        "  datasource = source.additional_kwargs[\"tool_calls\"][0][\"function\"][\"name\"]\n",
        "\n",
        "\n",
        "-->also in the web search function we set the docs as the docs loaded from the web but in CRAG we just appended with the filtered docs from the vector store"
      ],
      "metadata": {
        "id": "9NMEMWsCClsf"
      }
    },
    {
      "cell_type": "code",
      "source": [
        "#class of the state with its attributes\n",
        "from typing import List\n",
        "from typing_extensions import TypedDict\n",
        "class GraphState(TypedDict):\n",
        "    question: str\n",
        "    generation: str\n",
        "    documents: List[str]\n",
        "\n",
        "#first we will use a router\n",
        "def route_question(state):\n",
        "    \"\"\"\n",
        "    Returns:\n",
        "        str: Next node to call\n",
        "    \"\"\"\n",
        "    print(\"---ROUTE QUESTION---\")\n",
        "    question = state[\"question\"]\n",
        "    source = question_router.invoke({\"question\": question})\n",
        "    # Fallback to LLM or raise error if no decision\n",
        "    if \"tool_calls\" not in source.additional_kwargs:\n",
        "        print(\"---ROUTE QUESTION TO LLM---\")\n",
        "        return \"llm_fallback\"\n",
        "    if len(source.additional_kwargs[\"tool_calls\"]) == 0:\n",
        "        raise \"Router could not decide source\"\n",
        "    # Choose datasource\n",
        "    datasource = source.additional_kwargs[\"tool_calls\"][0][\"function\"][\"name\"]\n",
        "    if datasource == \"web_search\":\n",
        "        print(\"---ROUTE QUESTION TO WEB SEARCH---\")\n",
        "        return \"web_search\"\n",
        "    elif datasource == \"vectorstore\":\n",
        "        print(\"---ROUTE QUESTION TO RAG---\")\n",
        "        return \"vectorstore\"\n",
        "    else:\n",
        "        print(\"---ROUTE QUESTION TO LLM---\")\n",
        "        return \"vectorstore\"\n",
        "\n",
        "#then following that we will have a web_search,retriever and a fallback\n",
        "\n",
        "from langchain.schema import Document\n",
        "\n",
        "\n",
        "def retrieve(state):\n",
        "    \"\"\"\n",
        "    Returns:\n",
        "        state (dict): New key added to state, documents, that contains retrieved documents\n",
        "    \"\"\"\n",
        "    print(\"---RETRIEVE---\")\n",
        "    question = state[\"question\"]\n",
        "    # Retrieval\n",
        "    documents = retriever.invoke(question)\n",
        "    return {\"documents\": documents, \"question\": question}\n",
        "\n",
        "def llm_fallback(state):\n",
        "    \"\"\"\n",
        "    Returns:\n",
        "        state (dict): New key added to state, generation, that contains LLM generation\n",
        "    \"\"\"\n",
        "    print(\"---LLM Fallback---\")\n",
        "    question = state[\"question\"]\n",
        "    generation = llm_chain.invoke({\"question\": question})\n",
        "    return {\"question\": question, \"generation\": generation}\n",
        "\n",
        "def web_search(state):\n",
        "    \"\"\"\n",
        "    Returns:\n",
        "        state (dict): Updates documents key with appended web results\n",
        "    \"\"\"\n",
        "    print(\"---WEB SEARCH---\")\n",
        "    question = state[\"question\"]\n",
        "    # Web search\n",
        "    docs = web_search_tool.invoke({\"query\": question})\n",
        "    web_results = \"\\n\".join([d[\"content\"] for d in docs])\n",
        "    web_results = Document(page_content=web_results)\n",
        "    return {\"documents\": web_results, \"question\": question}"
      ],
      "metadata": {
        "id": "1kg0AHVsCjvL"
      },
      "execution_count": null,
      "outputs": []
    },
    {
      "cell_type": "markdown",
      "source": [
        "then we wills ethe next set of functions\n",
        "\n",
        "-->the grade documents will remove the non relevant docs\n",
        "\n",
        "-->then the next decide function returns the string web search if there is not even a single relevant document so this function does not return the state attributes with its values"
      ],
      "metadata": {
        "id": "xqFU-VKYEzEh"
      }
    },
    {
      "cell_type": "code",
      "source": [
        "def grade_documents(state):\n",
        "    \"\"\"\n",
        "    Returns:\n",
        "        state (dict): Updates documents key with only filtered relevant documents\n",
        "    \"\"\"\n",
        "    print(\"---CHECK DOCUMENT RELEVANCE TO QUESTION---\")\n",
        "    question = state[\"question\"]\n",
        "    documents = state[\"documents\"]\n",
        "    # Score each doc\n",
        "    filtered_docs = []\n",
        "    for d in documents:\n",
        "        score = retrieval_grader.invoke(\n",
        "            {\"question\": question, \"document\": d.page_content}\n",
        "        )\n",
        "        grade = score.binary_score\n",
        "        if grade == \"yes\":\n",
        "            print(\"---GRADE: DOCUMENT RELEVANT---\")\n",
        "            filtered_docs.append(d)\n",
        "        else:\n",
        "            print(\"---GRADE: DOCUMENT NOT RELEVANT---\")\n",
        "            continue\n",
        "    return {\"documents\": filtered_docs, \"question\": question}\n",
        "\n",
        "def decide_to_generate(state):\n",
        "    \"\"\"\n",
        "    Returns:\n",
        "        str: Binary decision for next node to call\n",
        "    \"\"\"\n",
        "    print(\"---ASSESS GRADED DOCUMENTS---\")\n",
        "    state[\"question\"]\n",
        "    filtered_documents = state[\"documents\"]\n",
        "    if not filtered_documents:\n",
        "        # All documents have been filtered check_relevance\n",
        "        # We will re-generate a new query\n",
        "        print(\"---DECISION: ALL DOCUMENTS ARE NOT RELEVANT TO QUESTION, WEB SEARCH---\")\n",
        "        return \"web_search\"\n",
        "    else:\n",
        "        # We have relevant documents, so generate answer\n",
        "        print(\"---DECISION: GENERATE---\")\n",
        "        return \"generate\"\n",
        "\n",
        "def generate(state):\n",
        "    \"\"\"\n",
        "    Returns:\n",
        "        state (dict): New key added to state, generation, that contains LLM generation\n",
        "    \"\"\"\n",
        "    print(\"---GENERATE---\")\n",
        "    question = state[\"question\"]\n",
        "    documents = state[\"documents\"]\n",
        "    if not isinstance(documents, list):\n",
        "        documents = [documents]\n",
        "    # RAG generation\n",
        "    generation = rag_chain.invoke({\"documents\": documents, \"question\": question})\n",
        "    return {\"documents\": documents, \"question\": question, \"generation\": generation}\n"
      ],
      "metadata": {
        "id": "D-IQSXfXCjsn"
      },
      "execution_count": null,
      "outputs": []
    },
    {
      "cell_type": "markdown",
      "source": [
        "then this is a single function where we will do the hallucination check and if true then we will also do the answer generation check and return the string useful or not useful\n",
        "\n",
        "remember that we have to go back to web search tool if not useful and return the asnwer if useful"
      ],
      "metadata": {
        "id": "v9KvzyFQGMyz"
      }
    },
    {
      "cell_type": "code",
      "source": [
        "def grade_generation_v_documents_and_question(state):\n",
        "    \"\"\"\n",
        "    Returns:\n",
        "        str: Decision for next node to call\n",
        "    \"\"\"\n",
        "\n",
        "    print(\"---CHECK HALLUCINATIONS---\")\n",
        "    question = state[\"question\"]\n",
        "    documents = state[\"documents\"]\n",
        "    generation = state[\"generation\"]\n",
        "\n",
        "    score = hallucination_grader.invoke(\n",
        "        {\"documents\": documents, \"generation\": generation}\n",
        "    )\n",
        "    grade = score.binary_score\n",
        "\n",
        "    # Check hallucination\n",
        "    if grade == \"yes\":\n",
        "        print(\"---DECISION: GENERATION IS GROUNDED IN DOCUMENTS---\")\n",
        "        # Check question-answering\n",
        "        print(\"---GRADE GENERATION vs QUESTION---\")\n",
        "        score = answer_grader.invoke({\"question\": question, \"generation\": generation})\n",
        "        grade = score.binary_score\n",
        "        if grade == \"yes\":\n",
        "            print(\"---DECISION: GENERATION ADDRESSES QUESTION---\")\n",
        "            return \"useful\"\n",
        "        else:\n",
        "            print(\"---DECISION: GENERATION DOES NOT ADDRESS QUESTION---\")\n",
        "            return \"not useful\"\n",
        "    else:\n",
        "        pprint(\"---DECISION: GENERATION IS NOT GROUNDED IN DOCUMENTS, RE-TRY---\")\n",
        "        return \"not supported\""
      ],
      "metadata": {
        "id": "kwsgQNheCjqi"
      },
      "execution_count": null,
      "outputs": []
    },
    {
      "cell_type": "markdown",
      "source": [
        "Then now we will build the graph with nodes and edges then compil eit and finally use it\n",
        "\n",
        "-->and also in these conditional edges we will have string:string left side is the output of the function called then right side isthe name of the node that it has to go to"
      ],
      "metadata": {
        "id": "AnSKxWJfH1fn"
      }
    },
    {
      "cell_type": "code",
      "source": [
        "import pprint\n",
        "\n",
        "from langgraph.graph import END, StateGraph, START\n",
        "\n",
        "workflow = StateGraph(GraphState)\n",
        "# Define the nodes\n",
        "workflow.add_node(\"web_search\", web_search)  # web search\n",
        "workflow.add_node(\"retrieve\", retrieve)  # retrieve\n",
        "workflow.add_node(\"grade_documents\", grade_documents)  # grade documents\n",
        "workflow.add_node(\"generate\", generate)  # rag\n",
        "workflow.add_node(\"llm_fallback\", llm_fallback)  # llm\n",
        "# Build graph\n",
        "workflow.add_conditional_edges(\n",
        "    START,\n",
        "    route_question,\n",
        "    {\n",
        "        \"web_search\": \"web_search\",\n",
        "        \"vectorstore\": \"retrieve\",\n",
        "        \"llm_fallback\": \"llm_fallback\",\n",
        "    },\n",
        ")\n",
        "workflow.add_edge(\"web_search\", \"generate\")\n",
        "workflow.add_edge(\"retrieve\", \"grade_documents\")\n",
        "workflow.add_conditional_edges(\n",
        "    \"grade_documents\",\n",
        "    decide_to_generate,\n",
        "    {\n",
        "        \"web_search\": \"web_search\",\n",
        "        \"generate\": \"generate\",\n",
        "    },\n",
        ")\n",
        "workflow.add_conditional_edges(\n",
        "    \"generate\",\n",
        "    grade_generation_v_documents_and_question,\n",
        "    {\n",
        "        \"not supported\": \"generate\",  # Hallucinations: re-generate\n",
        "        \"not useful\": \"web_search\",  # Fails to answer question: fall-back to web-search\n",
        "        \"useful\": END,\n",
        "    },\n",
        ")\n",
        "workflow.add_edge(\"llm_fallback\", END)\n",
        "\n",
        "# Compile\n",
        "app = workflow.compile()\n"
      ],
      "metadata": {
        "id": "25kEqApWCjn-"
      },
      "execution_count": null,
      "outputs": []
    },
    {
      "cell_type": "code",
      "source": [
        "# then we will use\n",
        "inputs = {\n",
        "    \"question\": \"What player are the Bears expected to draft first in the 2024 NFL draft?\"\n",
        "}\n",
        "for output in app.stream(inputs):\n",
        "    for key, value in output.items():\n",
        "        # Node\n",
        "        pprint.pprint(f\"Node '{key}':\")\n",
        "        # Optional: print full state at each node\n",
        "    pprint.pprint(\"\\n---\\n\")\n",
        "\n",
        "# Final generation\n",
        "pprint.pprint(value[\"generation\"])\n"
      ],
      "metadata": {
        "id": "IN4EXkmeBXYu"
      },
      "execution_count": null,
      "outputs": []
    },
    {
      "cell_type": "code",
      "source": [],
      "metadata": {
        "id": "E83dIDU9-Vi-"
      },
      "execution_count": null,
      "outputs": []
    }
  ]
}